{
  "nbformat": 4,
  "nbformat_minor": 0,
  "metadata": {
    "colab": {
      "provenance": []
    },
    "kernelspec": {
      "name": "python3",
      "display_name": "Python 3"
    },
    "language_info": {
      "name": "python"
    }
  },
  "cells": [
    {
      "cell_type": "code",
      "source": [
        "numero1= float(input(\"Digite um número:\"));\n",
        "\n",
        "numero2 =float(input(\"Digite outro número:\"));"
      ],
      "metadata": {
        "colab": {
          "base_uri": "https://localhost:8080/"
        },
        "id": "ahmic80-BvGo",
        "outputId": "789a6abf-c7b0-4049-afac-5bd585325926"
      },
      "execution_count": null,
      "outputs": [
        {
          "name": "stdout",
          "output_type": "stream",
          "text": [
            "Digite um número:34\n",
            "Digite outro número:78\n"
          ]
        }
      ]
    },
    {
      "cell_type": "code",
      "source": [
        "soma=numero1 + numero2\n",
        "subtracao=numero1 - numero2\n",
        "multiplicacao= numero1 * numero2\n",
        "divisao = numero1 / numero2"
      ],
      "metadata": {
        "id": "23L0PE1kCGwI"
      },
      "execution_count": null,
      "outputs": []
    },
    {
      "cell_type": "code",
      "source": [
        "operacoes = [soma, subtracao,multiplicacao,divisao]"
      ],
      "metadata": {
        "id": "m29usOcPDFA9"
      },
      "execution_count": null,
      "outputs": []
    },
    {
      "cell_type": "code",
      "source": [
        "escolha = input(\"Escolha e escreva uma operação matemática entre: soma,subtração, multiplicação ou divisão:\")"
      ],
      "metadata": {
        "colab": {
          "base_uri": "https://localhost:8080/"
        },
        "id": "kRmGjANNDoqt",
        "outputId": "36bc2d07-dc93-4a28-e78b-39cbaa85ec88"
      },
      "execution_count": null,
      "outputs": [
        {
          "name": "stdout",
          "output_type": "stream",
          "text": [
            "Escolha e escreva uma operação matemática entre: soma,subtração, multiplicação ou divisão:soma\n"
          ]
        }
      ]
    },
    {
      "cell_type": "code",
      "source": [
        "if escolha . lower() == 'soma':\n",
        " print(\"A soma desses dois número é igual a\",soma)\n",
        "elif escolha . lower() == 'subtração':\n",
        "  print( \"A subtração entre esses dois números é igual a\",subtracao )\n",
        "elif escolha . lower() == 'multiplicação':\n",
        "  print(\"A multiplicação entre esses dois números é igual a\",multiplicacao)\n",
        "elif escolha . lower() == 'divisão':\n",
        "  print(\"A divisão entre esses dois números é igual a\",divisao)\n",
        "else:\n",
        "  print(\"Escolha uma opção válida\")"
      ],
      "metadata": {
        "colab": {
          "base_uri": "https://localhost:8080/"
        },
        "id": "NLPLl1v_Ehnf",
        "outputId": "d70e55d8-a651-4636-c8e5-b62fa52396c1"
      },
      "execution_count": null,
      "outputs": [
        {
          "output_type": "stream",
          "name": "stdout",
          "text": [
            "A soma desses dois número é igual a 112.0\n"
          ]
        }
      ]
    }
  ]
}